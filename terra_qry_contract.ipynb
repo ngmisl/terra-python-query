{
 "cells": [
  {
   "cell_type": "markdown",
   "metadata": {},
   "source": [
    "Simple Query for reading Terra SmartContracts with Image Output\n",
    "\n",
    "Contact: o0crxv65@anonaddy.me\n",
    "\n",
    "Donate: terra1y60w9vjtfh5ldv3vnte4p76w6v35xh6tjtu5cy"
   ]
  },
  {
   "cell_type": "code",
   "execution_count": null,
   "metadata": {},
   "outputs": [],
   "source": [
    "import requests"
   ]
  },
  {
   "cell_type": "code",
   "execution_count": null,
   "metadata": {},
   "outputs": [],
   "source": [
    "# enter smartcontract address\n",
    "\n",
    "glow = 'terra1tu9yjssxslh3fd6fe908ntkquf3nd3xt8kp2u2'"
   ]
  },
  {
   "cell_type": "markdown",
   "metadata": {},
   "source": [
    "In order to read the correct data, we need to `query_msg` the contract.\n",
    "query_msg = '{\"**state**\" < *must* be changed to whatever you want to query. Easiest way is to go to [Finder](https://finder.extraterrestrial.money/mainnet/address/terra1tu9yjssxslh3fd6fe908ntkquf3nd3xt8kp2u2) and search for the contract. They list all the queries!\n"
   ]
  },
  {
   "cell_type": "code",
   "execution_count": null,
   "metadata": {},
   "outputs": [],
   "source": [
    "query_msg = '{\"state\":{\"contract_addr\":\"' + glow + '\"}}'\n",
    "\n",
    "response = requests.get(\n",
    "    \"https://lcd.terra.dev/wasm/contracts/\" + glow + \"/store\",\n",
    "    params={\"query_msg\": query_msg},\n",
    ").json()\n",
    "\n",
    "response"
   ]
  },
  {
   "cell_type": "code",
   "execution_count": null,
   "metadata": {},
   "outputs": [],
   "source": [
    "# read from response output and modify \n",
    "\n",
    "total_tickets = response['result']['total_tickets']"
   ]
  },
  {
   "cell_type": "code",
   "execution_count": null,
   "metadata": {},
   "outputs": [],
   "source": [
    "from PIL import Image, ImageDraw, ImageFont\n",
    "import os"
   ]
  },
  {
   "cell_type": "code",
   "execution_count": null,
   "metadata": {},
   "outputs": [],
   "source": [
    "imgText = 'Total Tickets Locked: ' + total_tickets\n",
    "\n",
    "# name of the file to save\n",
    "filename = \"img01.png\"\n",
    "fnt = ImageFont.truetype('arial.ttf', 48)\n",
    "# create new image\n",
    "width = 1500\n",
    "height = 500\n",
    "image = Image.new(mode = \"RGB\", size = (width,height), color = \"purple\")\n",
    "draw = ImageDraw.Draw(image)\n",
    "draw.text((400, height/2), imgText, font=fnt, fill=(255, 255, 255),)\n",
    "image.save(filename)\n",
    "\n",
    "os.system(filename)"
   ]
  },
  {
   "cell_type": "code",
   "execution_count": null,
   "metadata": {},
   "outputs": [],
   "source": [
    "from IPython.display import Image"
   ]
  },
  {
   "cell_type": "code",
   "execution_count": null,
   "metadata": {},
   "outputs": [],
   "source": [
    "Image(filename='img01.png') "
   ]
  }
 ],
 "metadata": {
  "interpreter": {
   "hash": "31f2aee4e71d21fbe5cf8b01ff0e069b9275f58929596ceb00d14d90e3e16cd6"
  },
  "kernelspec": {
   "display_name": "Python 3.8.10 64-bit",
   "language": "python",
   "name": "python3"
  },
  "language_info": {
   "codemirror_mode": {
    "name": "ipython",
    "version": 3
   },
   "file_extension": ".py",
   "mimetype": "text/x-python",
   "name": "python",
   "nbconvert_exporter": "python",
   "pygments_lexer": "ipython3",
   "version": "3.8.10"
  },
  "orig_nbformat": 4
 },
 "nbformat": 4,
 "nbformat_minor": 2
}
